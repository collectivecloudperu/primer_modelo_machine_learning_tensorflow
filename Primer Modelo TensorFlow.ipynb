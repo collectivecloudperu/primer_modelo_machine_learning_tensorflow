{
 "cells": [
  {
   "cell_type": "code",
   "execution_count": 76,
   "metadata": {},
   "outputs": [],
   "source": [
    "#TensorFlow \n",
    "import tensorflow as tf\n",
    "tf.logging.set_verbosity(tf.logging.ERROR)\n",
    "\n",
    "# NumPy y Matplotlib \n",
    "import numpy as np\n",
    "import matplotlib.pyplot as plt"
   ]
  },
  {
   "cell_type": "code",
   "execution_count": 77,
   "metadata": {},
   "outputs": [
    {
     "name": "stdout",
     "output_type": "stream",
     "text": [
      "70.0 Monto Invertido = 177.0 Suscripores Ganados\n",
      "85.0 Monto Invertido = 209.0 Suscripores Ganados\n",
      "96.0 Monto Invertido = 234.0 Suscripores Ganados\n",
      "45.0 Monto Invertido = 84.0 Suscripores Ganados\n",
      "50.0 Monto Invertido = 158.0 Suscripores Ganados\n",
      "35.0 Monto Invertido = 92.0 Suscripores Ganados\n"
     ]
    }
   ],
   "source": [
    "# datos \n",
    "monto_invertido = np.array([70, 85, 96, 45, 50, 35],  dtype = float)\n",
    "suscriptores_ganados = np.array([177, 209, 234, 84, 158, 92],  dtype = float)\n",
    "\n",
    "# Imprimimos los datos en texto para verificar \n",
    "for i,c in enumerate(monto_invertido):\n",
    "  print(\"{} Monto Invertido = {} Suscripores Ganados\".format(c, suscriptores_ganados[i]))"
   ]
  },
  {
   "cell_type": "code",
   "execution_count": 78,
   "metadata": {},
   "outputs": [
    {
     "data": {
      "image/png": "[encoded data removed]",
      "text/plain": [
       "<Figure size 432x288 with 1 Axes>"
      ]
     },
     "metadata": {
      "needs_background": "light"
     },
     "output_type": "display_data"
    }
   ],
   "source": [
    "# Creamos un gráfico con los datos del cliente \n",
    "plt.scatter(monto_invertido, suscriptores_ganados)\n",
    "plt.xlim(0,105)\n",
    "plt.ylim(0,245)\n",
    "plt.xlabel('Monto Invertido')\n",
    "plt.ylabel('Suscripores Ganados')\n",
    "plt.show()"
   ]
  },
  {
   "cell_type": "code",
   "execution_count": 79,
   "metadata": {},
   "outputs": [],
   "source": [
    "# Separamos los datos, en datos de entrenamiento y de prueba \n",
    "from sklearn.model_selection import train_test_split\n",
    "X_train, X_test, y_train, y_test = train_test_split(monto_invertido, suscriptores_ganados, random_state = 42, \n",
    "                                                    train_size=0.8, test_size=0.2)"
   ]
  },
  {
   "cell_type": "code",
   "execution_count": 80,
   "metadata": {},
   "outputs": [],
   "source": [
    "# Definimos la capa o layer_a \n",
    "capa_a = tf.keras.layers.Dense(units=1, input_shape=[1])"
   ]
  },
  {
   "cell_type": "code",
   "execution_count": 81,
   "metadata": {},
   "outputs": [],
   "source": [
    "# Modelo con la capa layer_a \n",
    "modelo = tf.keras.Sequential([capa_a])"
   ]
  },
  {
   "cell_type": "code",
   "execution_count": 82,
   "metadata": {},
   "outputs": [],
   "source": [
    "# Ejemplo de capas definidas dentro de la definición del modelo \n",
    "modelo = tf.keras.Sequential([\n",
    "  tf.keras.layers.Dense(units=1, input_shape=[1])\n",
    "])"
   ]
  },
  {
   "cell_type": "code",
   "execution_count": 83,
   "metadata": {},
   "outputs": [],
   "source": [
    "# Compilamos el modelo \n",
    "modelo.compile(loss='mean_squared_error',\n",
    "              optimizer=tf.keras.optimizers.Adam(0.1))"
   ]
  },
  {
   "cell_type": "code",
   "execution_count": 84,
   "metadata": {},
   "outputs": [
    {
     "name": "stdout",
     "output_type": "stream",
     "text": [
      "Entrenamiento Terminado.\n"
     ]
    }
   ],
   "source": [
    "# Entrenamos el modelo \n",
    "entrenar_modelo = modelo.fit(X_train, y_train, epochs = 1000, verbose = False)\n",
    "print(\"Entrenamiento Terminado.\")"
   ]
  },
  {
   "cell_type": "code",
   "execution_count": 85,
   "metadata": {},
   "outputs": [
    {
     "data": {
      "text/plain": [
       "[<matplotlib.lines.Line2D at 0xcac52f96a0>]"
      ]
     },
     "execution_count": 85,
     "metadata": {},
     "output_type": "execute_result"
    },
    {
     "data": {
      "image/png": "[encoded data removed]",
      "text/plain": [
       "<Figure size 432x288 with 1 Axes>"
      ]
     },
     "metadata": {
      "needs_background": "light"
     },
     "output_type": "display_data"
    }
   ],
   "source": [
    "# Creamos un gráfico para mostrar estadísticas del entrenamiento \n",
    "import matplotlib.pyplot as plt\n",
    "plt.xlabel('Época')\n",
    "plt.ylabel(\"Magnitud de Pérdida\")\n",
    "plt.plot(entrenar_modelo.history['loss'])"
   ]
  },
  {
   "cell_type": "code",
   "execution_count": 86,
   "metadata": {},
   "outputs": [
    {
     "name": "stdout",
     "output_type": "stream",
     "text": [
      "[[210.85681]]\n"
     ]
    }
   ],
   "source": [
    "# Predicción usando el modelo \n",
    "print(modelo.predict([85.0]))"
   ]
  },
  {
   "cell_type": "code",
   "execution_count": 87,
   "metadata": {},
   "outputs": [
    {
     "name": "stdout",
     "output_type": "stream",
     "text": [
      "Valores Pedecidos\n",
      "[177. 209.]     [[174.49239 210.85681]]\n"
     ]
    }
   ],
   "source": [
    "# Predicción de los puntos de datos de prueba \n",
    "y_pred = modelo.predict(X_test)\n",
    "print('Valores Pedecidos')\n",
    "print(y_test,'   ', y_pred.reshape(1,-1))"
   ]
  },
  {
   "cell_type": "code",
   "execution_count": 88,
   "metadata": {},
   "outputs": [
    {
     "data": {
      "text/plain": [
       "0.9809846138919056"
      ]
     },
     "execution_count": 88,
     "metadata": {},
     "output_type": "execute_result"
    }
   ],
   "source": [
    "# Verificamos la precisión del modelo \n",
    "from sklearn.metrics import r2_score\n",
    "\n",
    "r2_score(y_test, y_pred) "
   ]
  },
  {
   "cell_type": "code",
   "execution_count": 89,
   "metadata": {},
   "outputs": [
    {
     "name": "stdout",
     "output_type": "stream",
     "text": [
      "Proyecto Terminado !\n"
     ]
    }
   ],
   "source": [
    "print('Proyecto Terminado !')"
   ]
  },
  {
   "cell_type": "code",
   "execution_count": null,
   "metadata": {},
   "outputs": [],
   "source": []
  }
 ],
 "metadata": {
  "kernelspec": {
   "display_name": "Python 3",
   "language": "python",
   "name": "python3"
  },
  "language_info": {
   "codemirror_mode": {
    "name": "ipython",
    "version": 3
   },
   "file_extension": ".py",
   "mimetype": "text/x-python",
   "name": "python",
   "nbconvert_exporter": "python",
   "pygments_lexer": "ipython3",
   "version": "3.7.3"
  }
 },
 "nbformat": 4,
 "nbformat_minor": 2
}
